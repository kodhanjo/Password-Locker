{
 "cells": [
  {
   "cell_type": "code",
   "execution_count": null,
   "metadata": {},
   "outputs": [],
   "source": [
    "\n",
    "\n",
    "\n",
    "\n",
    "\n",
    "In [1]:\n",
    "\n",
    "In [2]:\n",
    "\n",
    "In [3]:\n",
    "\n",
    "Welcome john, An account has been created for you, you can use the following token for authentication. Your access token is 553da9ce98c96b0b71db60df3cb69a8c \n",
    "Out[3]:\n",
    "{'username': 'john', 'password': 'john_pass'}\n",
    "Test if user can create an account\n",
    "Create a new account\n",
    "The method accepts acount_name, username, and password as input\n",
    "If password is not given, the function will generate its a new password\n",
    "In [4]:\n",
    "c.add_account('ig','if','qwertyuio')\n",
    "Out[4]:\n",
    "{'account_name': 'ig', 'username': 'if', 'password': 'qwertyuio'}\n",
    "If argument for password is not specified, the system will generate a password for you\n",
    "\n",
    "In [5]:\n",
    "c.add_account('facebook','facebook_user')\n",
    "Out[5]:\n",
    "{'account_name': 'facebook',\n",
    " 'username': 'facebook_user',\n",
    " 'password': 'AdgO[91b$'}\n",
    "Get Account details\n",
    "In [6]:\n",
    "c.get_account_details('facebook')\n",
    "[{'account_name': 'facebook', 'username': 'facebook_user', 'password': 'AdgO[91b$'}]\n",
    "AdgO[91b$\n",
    "Password has been copied to clipboard.\n",
    "Out[6]:\n",
    "{'account_name': 'facebook',\n",
    " 'username': 'facebook_user',\n",
    " 'password': 'AdgO[91b$'}\n",
    "Delete Account\n",
    "In [7]:\n",
    "c.delete_account('facebook')\n",
    "Account was deleted successfully\n",
    "Out[7]:\n",
    "[{'account_name': 'ig', 'username': 'if', 'password': 'qwertyuio'}]\n",
    "View All Accounts\n",
    "In [8]:\n",
    "c.view_all_accounts()\n",
    "You have 1 accounts with us.\n",
    "{'account_name': 'ig', 'username': 'if', 'password': 'qwertyuio'}\n",
    "Out[8]:\n",
    "[{'account_name': 'ig', 'username': 'if', 'password': 'qwertyuio'}]\n",
    "In [10]:\n",
    "c.get_account_details('isddg')\n",
    "[]\n",
    "Out[10]:\n",
    "'Account not found'\n",
    "In [12]:\n",
    "c.get_account_details('ig')\n",
    "[{'account_name': 'ig', 'username': 'if', 'password': 'qwertyuio'}]\n",
    "qwertyuio\n",
    "Password has been copied to clipboard.\n",
    "Out[12]:\n",
    "{'account_name': 'ig', 'username': 'if', 'password': 'qwertyuio'}\n",
    "In [ ]:\n"
   ]
  },
  {
   "cell_type": "markdown",
   "metadata": {},
   "source": [
    "# Expected return values for User class that implements Credentials class\n",
    "This notebook give the expected output and input of every method in Users class\n",
    "Import and create an instance of User Class"
   ]
  },
  {
   "cell_type": "code",
   "execution_count": null,
   "metadata": {},
   "outputs": [],
   "source": [
    "from User import User\n",
    "c=User()"
   ]
  },
  {
   "cell_type": "code",
   "execution_count": null,
   "metadata": {},
   "outputs": [],
   "source": [
    "### Create New user Account"
   ]
  },
  {
   "cell_type": "code",
   "execution_count": null,
   "metadata": {},
   "outputs": [],
   "source": [
    "c.new_user('john','john_pass')"
   ]
  },
  {
   "cell_type": "code",
   "execution_count": null,
   "metadata": {},
   "outputs": [],
   "source": []
  },
  {
   "cell_type": "code",
   "execution_count": null,
   "metadata": {},
   "outputs": [],
   "source": []
  },
  {
   "cell_type": "code",
   "execution_count": null,
   "metadata": {},
   "outputs": [],
   "source": []
  }
 ],
 "metadata": {
  "kernelspec": {
   "display_name": "Python 3 (ipykernel)",
   "language": "python",
   "name": "python3"
  },
  "language_info": {
   "codemirror_mode": {
    "name": "ipython",
    "version": 3
   },
   "file_extension": ".py",
   "mimetype": "text/x-python",
   "name": "python",
   "nbconvert_exporter": "python",
   "pygments_lexer": "ipython3",
   "version": "3.8.10"
  }
 },
 "nbformat": 4,
 "nbformat_minor": 2
}
