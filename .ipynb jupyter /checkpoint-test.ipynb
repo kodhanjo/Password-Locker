In [4]:
from User import User
c=User()
You need to either login or sign Up to continue
Reply with 1 to login and 2 to sign Up (1/2): 2
Username: felix
········
In [5]:
c.credentials.add_account('ig','if','asdfghj')
Out[5]:
{'account_name': 'ig', 'username': 'if', 'password': 'asdfghj'}
In [6]:
c.get_account_details('ig')
---------------------------------------------------------------------------
TypeError                                 Traceback (most recent call last)
<ipython-input-6-fcb949d2f70f> in <module>
----> 1 c.get_account_details('ig')

~/home/moringa/Documents/core/Python/Password-Locker/user.py in get_account_details(self, account_name)
     29     def get_account_details(self, account_name):
     30         if (acc['account_name'] == account_name for acc in self.credentials.accounts):
---> 31             return (acc for acc in self.credentials.accounts if acc['account_name']==account_name)
     32         return 'Account  not found'
     33 

TypeError: list indices must be integers or slices, not str
In [ ]:
