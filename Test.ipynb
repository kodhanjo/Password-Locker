Expected return values for User class that implements Credentials class
This notebook give the expected output and input of every method in Users class

Import and create an instance of User Class

In [1]:
from User import User
c=User()
In [2]:
### Create New user Account
In [3]:
c.new_user('john','john_pass')
Welcome john, An account has been created for you, you can use the following token for authentication. Your access token is 553da9ce98c96b0b71db60df3cb69a8c 
Out[3]:
{'username': 'john', 'password': 'john_pass'}
Test if user can create an account¶
Create a new account
The method accepts acount_name, username, and password as input
If password is not given, the function will generate its a new password
In [4]:
c.add_account('ig','if','qwertyuio')
Out[4]:
{'account_name': 'ig', 'username': 'if', 'password': 'qwertyuio'}
If argument for password is not specified, the system will generate a password for you

In [5]:
c.add_account('facebook','facebook_user')
Out[5]:
{'account_name': 'facebook',
 'username': 'facebook_user',
 'password': 'AdgO[91b$'}
Get Account details
In [6]:
c.get_account_details('facebook')
[{'account_name': 'facebook', 'username': 'facebook_user', 'password': 'AdgO[91b$'}]
AdgO[91b$
Password has been copied to clipboard.
Out[6]:
{'account_name': 'facebook',
 'username': 'facebook_user',
 'password': 'AdgO[91b$'}
 Delete Account
In [7]:
c.delete_account('facebook')
Account was deleted successfully
Out[7]:
[{'account_name': 'ig', 'username': 'if', 'password': 'qwertyuio'}]
View All Accounts
In [8]:
c.view_all_accounts()
You have 1 accounts with us.
{'account_name': 'ig', 'username': 'if', 'password': 'qwertyuio'}
Out[8]:
[{'account_name': 'ig', 'username': 'if', 'password': 'qwertyuio'}]
In [10]:
c.get_account_details('isddg')
[]
Out[10]:
'Account not found'
In [12]:
c.get_account_details('ig')
[{'account_name': 'ig', 'username': 'if', 'password': 'qwertyuio'}]
qwertyuio
Password has been copied to clipboard.
Out[12]:
{'account_name': 'ig', 'username': 'if', 'password': 'qwertyuio'}
In [ ]:
